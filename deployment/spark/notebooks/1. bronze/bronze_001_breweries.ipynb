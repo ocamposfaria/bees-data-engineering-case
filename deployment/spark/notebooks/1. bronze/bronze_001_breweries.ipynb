{
 "cells": [
  {
   "cell_type": "markdown",
   "id": "650549f1-9c43-4c5d-9b5e-a70c79fed935",
   "metadata": {
    "jp-MarkdownHeadingCollapsed": true
   },
   "source": [
    "## Imports e Spark Session"
   ]
  },
  {
   "cell_type": "code",
   "execution_count": 1,
   "id": "94ce0e98-e045-4684-8cc1-aa6e77407fc0",
   "metadata": {},
   "outputs": [
    {
     "data": {
      "text/html": [
       "<style>pre { white-space: pre !important; }</style>"
      ],
      "text/plain": [
       "<IPython.core.display.HTML object>"
      ]
     },
     "metadata": {},
     "output_type": "display_data"
    }
   ],
   "source": [
    "from pyspark.sql import SparkSession\n",
    "from IPython.core.display import HTML\n",
    "display(HTML(\"<style>pre { white-space: pre !important; }</style>\"))\n",
    "\n",
    "spark = SparkSession.builder \\\n",
    "    .appName(\"Read from MinIO S3A\") \\\n",
    "    .config(\"spark.jars.packages\", \"org.apache.hadoop:hadoop-aws:3.3.4\") \\\n",
    "    .config(\"spark.hadoop.fs.s3a.endpoint\", \"http://minio:9000\") \\\n",
    "    .config(\"spark.hadoop.fs.s3a.access.key\", \"ROOTUSER\") \\\n",
    "    .config(\"spark.hadoop.fs.s3a.secret.key\", \"CHANGEME123\") \\\n",
    "    .config(\"spark.hadoop.fs.s3a.path.style.access\", \"true\") \\\n",
    "    .config(\"spark.hadoop.fs.s3a.impl\", \"org.apache.hadoop.fs.s3a.S3AFileSystem\") \\\n",
    "    .config(\"spark.ui.showConsoleProgress\", \"true\") \\\n",
    "    .getOrCreate()"
   ]
  },
  {
   "cell_type": "markdown",
   "id": "ad6dc02f-8d4c-41d9-b567-2e70820a06b7",
   "metadata": {},
   "source": [
    "## Lendo da camada /bronze/ e jogando na /silver/"
   ]
  },
  {
   "cell_type": "code",
   "execution_count": null,
   "id": "a733353a-135b-47d0-b381-2c03c6c32a60",
   "metadata": {},
   "outputs": [
    {
     "name": "stdout",
     "output_type": "stream",
     "text": [
      "+---------------------------+---------+---------+------------+--------------+-------------+------------------------------------+---------------+----------------+-------------------------------+------------+-----------+-------------+--------------+---------------------------+----------------------------------+\n",
      "|address_1                  |address_2|address_3|brewery_type|city          |country      |id                                  |latitude       |longitude       |name                           |phone       |postal_code|state        |state_province|street                     |website_url                       |\n",
      "+---------------------------+---------+---------+------------+--------------+-------------+------------------------------------+---------------+----------------+-------------------------------+------------+-----------+-------------+--------------+---------------------------+----------------------------------+\n",
      "|1716 Topeka St             |NULL     |NULL     |micro       |Norman        |United States|5128df48-79fc-4f0f-8b52-d06be54d0cec|35.25738891    |-97.46818222    |(405) Brewing Co               |4058160490  |73069-8224 |Oklahoma     |Oklahoma      |1716 Topeka St             |http://www.405brewing.com         |\n",
      "|407 Radam Ln Ste F200      |NULL     |NULL     |micro       |Austin        |United States|9c5a66c8-cc13-416f-a5d9-0a769c87d318|NULL           |NULL            |(512) Brewing Co               |5129211545  |78745-1197 |Texas        |Texas         |407 Radam Ln Ste F200      |http://www.512brewing.com         |\n",
      "|8100 Washington Ave        |NULL     |NULL     |micro       |Mount Pleasant|United States|34e8c68b-6146-453f-a4b9-1f6cd99a5ada|42.720108268996|-87.883363502094|1 of Us Brewing Company        |2624847553  |53406-3920 |Wisconsin    |Wisconsin     |8100 Washington Ave        |https://www.1ofusbrewing.com      |\n",
      "|62970 18th St              |NULL     |NULL     |large       |Bend          |United States|6d14b220-8926-4521-8d19-b98a2d6ec3db|44.08683531    |-121.281706     |10 Barrel Brewing Co           |5415851007  |97701-9847 |Oregon       |Oregon        |62970 18th St              |http://www.10barrel.com           |\n",
      "|1135 NW Galveston Ave Ste B|NULL     |NULL     |large       |Bend          |United States|e2e78bd8-80ff-4a61-a65c-3bfbd9d76ce2|44.0575649     |-121.3288021    |10 Barrel Brewing Co           |5415851007  |97703-2465 |Oregon       |Oregon        |1135 NW Galveston Ave Ste B|NULL                              |\n",
      "|1411 NW Flanders St        |NULL     |NULL     |large       |Portland      |United States|e432899b-7f58-455f-9c7b-9a6e2130a1e0|45.5259786     |-122.6855056    |10 Barrel Brewing Co           |5032241700  |97209-2620 |Oregon       |Oregon        |1411 NW Flanders St        |http://www.10barrel.com           |\n",
      "|1501 E St                  |NULL     |NULL     |large       |San Diego     |United States|ef970757-fe42-416f-931d-722451f1f59c|32.714813      |-117.129593     |10 Barrel Brewing Co           |6195782311  |92101-6618 |California   |California    |1501 E St                  |http://10barrel.com               |\n",
      "|62950 NE 18th St           |NULL     |NULL     |large       |Bend          |United States|9f1852da-c312-42da-9a31-097bac81c4c0|44.0912109     |-121.2809536    |10 Barrel Brewing Co - Bend Pub|5415851007  |97701      |Oregon       |Oregon        |62950 NE 18th St           |NULL                              |\n",
      "|826 W Bannock St           |NULL     |NULL     |large       |Boise         |United States|ea4f30c0-bce6-416b-8904-fab4055a7362|43.618516      |-116.202929     |10 Barrel Brewing Co - Boise   |2083445870  |83702-5857 |Idaho        |Idaho         |826 W Bannock St           |http://www.10barrel.com           |\n",
      "|2620 Walnut St             |NULL     |NULL     |large       |Denver        |United States|1988eb86-f0a2-4674-ba04-02454efa0d31|39.7592508     |-104.9853655    |10 Barrel Brewing Co - Denver  |7205738992  |80205-2231 |Colorado     |Colorado      |2620 Walnut St             |NULL                              |\n",
      "|490 Mill St                |NULL     |NULL     |micro       |Reno          |United States|1ecc330f-6275-42a5-b14e-00adbed62752|39.5171702     |-119.7732015    |10 Torr Distilling and Brewing |7755307014  |89502      |Nevada       |Nevada        |490 Mill St                |http://www.10torr.com             |\n",
      "|400 Brown Cir              |NULL     |NULL     |micro       |Knox          |United States|7531dbd8-afc9-4b5b-95bc-7ece7f2c0bf3|41.289715      |-86.627954      |10-56 Brewing Company          |6308165790  |46534      |Indiana      |Indiana       |400 Brown Cir              |NULL                              |\n",
      "|1304 Scott St Ste D        |NULL     |NULL     |closed      |Petaluma      |United States|5ae467af-66dc-4d7f-8839-44228f89b596|38.27029381    |-122.665055     |101 North Brewing Company      |7077534934  |94954-7100 |California   |California    |1304 Scott St Ste D        |http://www.101northbeer.com       |\n",
      "|1043 Park St               |NULL     |NULL     |micro       |Castle Rock   |United States|4ffda196-dd59-44a5-9eeb-5f7fd4b58f5a|39.38269495    |-104.8667206    |105 West Brewing Co            |3033257321  |80109-1585 |Colorado     |Colorado      |1043 Park St               |http://www.105westbrewing.com     |\n",
      "|2005 2nd Ave               |NULL     |NULL     |micro       |Anoka         |United States|42aa37d5-8384-4ffe-8c81-7c982eff0384|45.19812039    |-93.38952559    |10K Brewing                    |7633924753  |55303-2243 |Minnesota    |Minnesota     |2005 2nd Ave               |http://10KBrew.com                |\n",
      "|491 Washington St          |NULL     |NULL     |micro       |Abington      |United States|232e8f62-9afc-45f5-b4bc-582c26b5c43b|42.10591754    |-70.94594149    |10th District Brewing Company  |7813071554  |02351-2419 |Massachusetts|Massachusetts |491 Washington St          |http://www.10thdistrictbrewing.com|\n",
      "|6820 Bourgeois Rd          |NULL     |NULL     |micro       |Houston       |United States|08f78223-24f8-4b71-b381-ea19a5bd82df|29.9515464     |-95.5186591     |11 Below Brewing Company       |2814442337  |77066-3107 |Texas        |Texas         |6820 Bourgeois Rd          |http://www.11belowbrewing.com     |\n",
      "|141 E Main St              |NULL     |NULL     |brewpub     |John Day      |United States|58293321-14ae-49d7-9a7b-08436c9e63a6|44.4146563     |-118.9218754    |1188 Brewing Co                |5415751188  |97845-1210 |Oregon       |Oregon        |141 E Main St              |http://www.1188brewing.com        |\n",
      "|Unnamed Street             |Clonmore |NULL     |micro       |Killeshin     |Ireland      |e5f3e72a-fee2-4813-82cf-f2e53b439ae6|52.84930763    |-6.979343891    |12 Acres Brewing Company       |353599107299|R93 X3X8   |Laois        |Laois         |Unnamed Street             |https://12acresbrewing.ie/        |\n",
      "|80 Earhart Dr Ste 20       |NULL     |NULL     |brewpub     |Williamsville |United States|d81ff708-b5d2-478f-af6a-6d40f5beb9ac|NULL           |NULL            |12 Gates Brewing Company       |7169066600  |14221-7804 |New York     |New York      |80 Earhart Dr Ste 20       |http://www.12gatesbrewing.com     |\n",
      "+---------------------------+---------+---------+------------+--------------+-------------+------------------------------------+---------------+----------------+-------------------------------+------------+-----------+-------------+--------------+---------------------------+----------------------------------+\n",
      "only showing top 20 rows\n",
      "\n"
     ]
    }
   ],
   "source": [
    "df_json = spark.read.json(\"s3a://datalake/1. bronze/001-breweries/breweries.json\")\n",
    "\n",
    "df_json.createOrReplaceTempView(\"breweries\")\n",
    "\n",
    "df_result = spark.sql(\"\"\"\n",
    "    SELECT *\n",
    "    FROM breweries\n",
    "\"\"\")\n",
    "\n",
    "df_result.show(truncate=False)\n",
    "\n",
    "df_result.write.mode(\"overwrite\").parquet(\"s3a://datalake/1. bronze/001-breweries/001-breweries/\")"
   ]
  }
 ],
 "metadata": {
  "kernelspec": {
   "display_name": "Python 3 (ipykernel)",
   "language": "python",
   "name": "python3"
  },
  "language_info": {
   "codemirror_mode": {
    "name": "ipython",
    "version": 3
   },
   "file_extension": ".py",
   "mimetype": "text/x-python",
   "name": "python",
   "nbconvert_exporter": "python",
   "pygments_lexer": "ipython3",
   "version": "3.11.6"
  }
 },
 "nbformat": 4,
 "nbformat_minor": 5
}
