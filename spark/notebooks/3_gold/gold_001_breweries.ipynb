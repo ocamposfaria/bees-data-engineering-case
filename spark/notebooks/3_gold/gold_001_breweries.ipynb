{
 "cells": [
  {
   "cell_type": "markdown",
   "id": "e87e3621-dd35-4763-ae2f-e94997b9f09a",
   "metadata": {},
   "source": [
    "## Importações e Spark Session"
   ]
  },
  {
   "cell_type": "code",
   "execution_count": 1,
   "id": "5fe7fed1-52e8-4d6d-8d94-c48daf4bb40e",
   "metadata": {},
   "outputs": [],
   "source": [
    "from pyspark.sql import SparkSession\n",
    "from pyspark.sql.functions import current_timestamp, col\n",
    "from pyspark.sql.functions import lower, regexp_replace\n",
    "import json\n",
    "import os\n",
    "\n",
    "# carregando os jars necessários para se conectar ao MinIO (nosso S3)\n",
    "spark = SparkSession.builder \\\n",
    "    .appName(\"Read from MinIO S3A and Write Partitioned\") \\\n",
    "    .config(\"spark.jars.packages\", \"org.apache.hadoop:hadoop-aws:3.3.4\") \\\n",
    "    .config(\"spark.hadoop.fs.s3a.endpoint\", \"http://minio:9000\") \\\n",
    "    .config(\"spark.hadoop.fs.s3a.access.key\", os.getenv(\"MINIO_ROOT_USER\")) \\\n",
    "    .config(\"spark.hadoop.fs.s3a.secret.key\", os.getenv(\"MINIO_ROOT_PASSWORD\")) \\\n",
    "    .config(\"spark.hadoop.fs.s3a.path.style.access\", \"true\") \\\n",
    "    .config(\"spark.hadoop.fs.s3a.impl\", \"org.apache.hadoop.fs.s3a.S3AFileSystem\") \\\n",
    "    .config(\"spark.ui.showConsoleProgress\", \"true\") \\\n",
    "    .getOrCreate()\n",
    "\n",
    "df = spark.read.parquet(\"s3a://datalake/2_silver/001_breweries/breweries/\")"
   ]
  },
  {
   "cell_type": "markdown",
   "id": "69997ba5-3bf5-4c18-a808-0d06affdac33",
   "metadata": {},
   "source": [
    "## Lendo da camada silver e jogando na gold em parquet"
   ]
  },
  {
   "cell_type": "code",
   "execution_count": 2,
   "id": "f611cd4e-e6f0-40f6-9f99-c5b2341eefa5",
   "metadata": {
    "scrolled": true
   },
   "outputs": [
    {
     "name": "stdout",
     "output_type": "stream",
     "text": [
      "+------------+----------------+--------------+-------------+-------------+\n",
      "|brewery_type|            city|state_province|      country|brewery_count|\n",
      "+------------+----------------+--------------+-------------+-------------+\n",
      "|       micro|          Denver|      Colorado|United States|           58|\n",
      "|       micro|       San Diego|    California|United States|           45|\n",
      "|       micro|         Seattle|    Washington|United States|           44|\n",
      "|       micro|        Portland|        Oregon|United States|           41|\n",
      "|       micro|          Austin|         Texas|United States|           30|\n",
      "|     brewpub|        Portland|        Oregon|United States|           29|\n",
      "|       micro|         Chicago|      Illinois|United States|           28|\n",
      "|         bar|       Singapore|     Singapore|    Singapore|           28|\n",
      "|       micro|     Minneapolis|     Minnesota|United States|           25|\n",
      "|     brewpub|       San Diego|    California|United States|           23|\n",
      "|       micro|         Houston|         Texas|United States|           22|\n",
      "|     brewpub|    Grand Rapids|      Michigan|United States|           21|\n",
      "|       micro|         Spokane|    Washington|United States|           20|\n",
      "|       micro|        Columbus|          Ohio|United States|           19|\n",
      "|       micro|      Cincinnati|          Ohio|United States|           18|\n",
      "|     brewpub|   San Francisco|    California|United States|           17|\n",
      "|       micro|        Richmond|      Virginia|United States|           17|\n",
      "|       micro|Colorado Springs|      Colorado|United States|           17|\n",
      "|     brewpub|         Seattle|    Washington|United States|           17|\n",
      "|       micro|         Raleigh|North Carolina|United States|           17|\n",
      "+------------+----------------+--------------+-------------+-------------+\n",
      "only showing top 20 rows\n",
      "\n"
     ]
    }
   ],
   "source": [
    "df.createOrReplaceTempView(\"breweries\")\n",
    "\n",
    "gold_df = spark.sql(\"\"\"\n",
    "    SELECT \n",
    "        brewery_type,\n",
    "        city,\n",
    "        state_province,\n",
    "        country,\n",
    "        COUNT(*) AS brewery_count\n",
    "    FROM breweries\n",
    "    GROUP BY brewery_type, city, state_province, country\n",
    "    ORDER BY brewery_count DESC\n",
    "\"\"\")\n",
    "\n",
    "gold_df.write.mode(\"overwrite\").parquet(\"s3a://datalake/3_gold/001_breweries/breweries_by_type_location/\")\n",
    "\n",
    "gold_df.show()"
   ]
  },
  {
   "cell_type": "markdown",
   "id": "d8088126-adb9-4fab-88a8-7508144edf7d",
   "metadata": {},
   "source": [
    "## Criando metadados para o assistende de IA"
   ]
  },
  {
   "cell_type": "code",
   "execution_count": 3,
   "id": "e21a57f2-a77b-46be-8ec0-2a16b769179c",
   "metadata": {},
   "outputs": [],
   "source": [
    "# extraindo colunas\n",
    "columns = [{\"name\": field.name, \"type\": str(field.dataType)} for field in gold_df.schema.fields]\n",
    "\n",
    "metadata = {\n",
    "    \"table_name\": \"breweries_by_type_location\",\n",
    "    \"columns\": columns,\n",
    "    \"data_source\": \"s3a://datalake/2_silver/001_breweries/breweries/\",\n",
    "    \"output_path\": \"s3a://datalake/3_gold/001_breweries/breweries_by_type_location/\",\n",
    "    \"description\": \"Tabela que contém a contagem de cervejarias por tipo, cidade, estado e país.\"\n",
    "}\n",
    "\n",
    "metadata_path = \"gold_001_breweries.json\"\n",
    "with open(metadata_path, 'w') as metadata_file:\n",
    "    json.dump(metadata, metadata_file, indent=4)"
   ]
  }
 ],
 "metadata": {
  "kernelspec": {
   "display_name": "Python 3 (ipykernel)",
   "language": "python",
   "name": "python3"
  },
  "language_info": {
   "codemirror_mode": {
    "name": "ipython",
    "version": 3
   },
   "file_extension": ".py",
   "mimetype": "text/x-python",
   "name": "python",
   "nbconvert_exporter": "python",
   "pygments_lexer": "ipython3",
   "version": "3.11.6"
  }
 },
 "nbformat": 4,
 "nbformat_minor": 5
}
