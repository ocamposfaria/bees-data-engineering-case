{
 "cells": [
  {
   "cell_type": "markdown",
   "id": "650549f1-9c43-4c5d-9b5e-a70c79fed935",
   "metadata": {},
   "source": [
    "## Importações e Spark Session"
   ]
  },
  {
   "cell_type": "code",
   "execution_count": 1,
   "id": "94ce0e98-e045-4684-8cc1-aa6e77407fc0",
   "metadata": {},
   "outputs": [],
   "source": [
    "from pyspark.sql import SparkSession\n",
    "from pyspark.sql.functions import current_timestamp, col\n",
    "from pyspark.sql.functions import lower, regexp_replace\n",
    "from pyspark.sql.types import StructType, StructField, StringType, IntegerType\n",
    "import os\n",
    "\n",
    "# carregando os jars necessários para se conectar ao MinIO (nosso S3)\n",
    "spark = SparkSession.builder \\\n",
    "    .appName(\"silver_oo1_breweries\") \\\n",
    "    .config(\"spark.jars.packages\", \"org.apache.hadoop:hadoop-aws:3.3.4\") \\\n",
    "    .config(\"spark.hadoop.fs.s3a.endpoint\", \"http://minio:9000\") \\\n",
    "    .config(\"spark.hadoop.fs.s3a.access.key\", os.getenv(\"MINIO_ROOT_USER\")) \\\n",
    "    .config(\"spark.hadoop.fs.s3a.secret.key\", os.getenv(\"MINIO_ROOT_PASSWORD\")) \\\n",
    "    .config(\"spark.hadoop.fs.s3a.path.style.access\", \"true\") \\\n",
    "    .config(\"spark.hadoop.fs.s3a.impl\", \"org.apache.hadoop.fs.s3a.S3AFileSystem\") \\\n",
    "    .config(\"spark.ui.showConsoleProgress\", \"true\") \\\n",
    "    .getOrCreate()"
   ]
  },
  {
   "cell_type": "markdown",
   "id": "ad6dc02f-8d4c-41d9-b567-2e70820a06b7",
   "metadata": {},
   "source": [
    "## Lendo da camada bronze e jogando na silver em parquet"
   ]
  },
  {
   "cell_type": "code",
   "execution_count": 2,
   "id": "a733353a-135b-47d0-b381-2c03c6c32a60",
   "metadata": {},
   "outputs": [
    {
     "name": "stdout",
     "output_type": "stream",
     "text": [
      "✅ Pipeline executado com sucesso!\n"
     ]
    }
   ],
   "source": [
    "# define schema esperado\n",
    "schema = StructType([\n",
    "    StructField(\"address_1\", StringType(), True),\n",
    "    StructField(\"address_2\", StringType(), True),\n",
    "    StructField(\"address_3\", StringType(), True),\n",
    "    StructField(\"brewery_type\", StringType(), True),\n",
    "    StructField(\"city\", StringType(), True),\n",
    "    StructField(\"country\", StringType(), True),\n",
    "    StructField(\"id\", StringType(), True),\n",
    "    StructField(\"latitude\", StringType(), True),\n",
    "    StructField(\"longitude\", StringType(), True),\n",
    "    StructField(\"name\", StringType(), True),\n",
    "    StructField(\"phone\", StringType(), True),\n",
    "    StructField(\"postal_code\", StringType(), True),\n",
    "    StructField(\"state\", StringType(), True),\n",
    "    StructField(\"state_province\", StringType(), True),\n",
    "    StructField(\"street\", StringType(), True),\n",
    "    StructField(\"website_url\", StringType(), True),\n",
    "])\n",
    "\n",
    "try:\n",
    "    \n",
    "    df = spark.read.schema(schema).json(\"s3a://datalake/1_bronze/001_breweries/breweries.json\")\n",
    "\n",
    "    # normalização dos nomes das colunas\n",
    "    df_cleaned = df.select([\n",
    "        col(c).alias(c.lower().replace(\" \", \"_\")) for c in df.columns\n",
    "    ])\n",
    "\n",
    "    # deduplicação (baseado no ID da cervejaria)\n",
    "    df_dedup = df_cleaned.dropDuplicates([\"id\"])\n",
    "\n",
    "    # adiciona timestamp de ingestão\n",
    "    df_with_ts = df_dedup.withColumn(\"ingestion_timestamp\", current_timestamp())\n",
    "\n",
    "    # escreve particionado por estado\n",
    "    df_with_ts.write \\\n",
    "        .mode(\"overwrite\") \\\n",
    "        .partitionBy(\"country\", \"state\") \\\n",
    "        .parquet(\"s3a://datalake/2_silver/001_breweries/breweries/\")\n",
    "    \n",
    "    print(\"✅ Pipeline executado com sucesso!\")\n",
    "\n",
    "except Exception as e:\n",
    "    print(f\"❌ Falha na execução do pipeline: {str(e)}\", file=sys.stderr)\n",
    "    raise"
   ]
  }
 ],
 "metadata": {
  "kernelspec": {
   "display_name": "Python 3 (ipykernel)",
   "language": "python",
   "name": "python3"
  },
  "language_info": {
   "codemirror_mode": {
    "name": "ipython",
    "version": 3
   },
   "file_extension": ".py",
   "mimetype": "text/x-python",
   "name": "python",
   "nbconvert_exporter": "python",
   "pygments_lexer": "ipython3",
   "version": "3.11.6"
  }
 },
 "nbformat": 4,
 "nbformat_minor": 5
}
